{
 "cells": [
  {
   "cell_type": "code",
   "execution_count": 5,
   "metadata": {},
   "outputs": [
    {
     "name": "stdout",
     "output_type": "stream",
     "text": [
      "desserts\n"
     ]
    }
   ],
   "source": [
    "str = 'stressed'\n",
    "print(''.join(list(reversed(str))))"
   ]
  },
  {
   "cell_type": "code",
   "execution_count": 6,
   "metadata": {},
   "outputs": [
    {
     "name": "stdout",
     "output_type": "stream",
     "text": [
      "パトカー\n"
     ]
    }
   ],
   "source": [
    "str = 'パタトクカシーー'\n",
    "ans = [a for i,a in enumerate(list(str)) if i%2 == 0]\n",
    "print(''.join(ans))"
   ]
  },
  {
   "cell_type": "code",
   "execution_count": 7,
   "metadata": {},
   "outputs": [
    {
     "name": "stdout",
     "output_type": "stream",
     "text": [
      "パタトクカシーー\n"
     ]
    }
   ],
   "source": [
    "str1 = 'パトカー'\n",
    "str2 = 'タクシー'\n",
    "ans = [a+b for a,b in zip(list(str1),list(str2))]\n",
    "print(''.join(ans))"
   ]
  },
  {
   "cell_type": "code",
   "execution_count": 11,
   "metadata": {},
   "outputs": [
    {
     "name": "stdout",
     "output_type": "stream",
     "text": [
      "[3, 1, 4, 1, 5, 9, 2, 6, 5, 3, 5, 8, 9, 7, 9]\n"
     ]
    }
   ],
   "source": [
    "import re\n",
    "str = 'Now I need a drink, alcoholic of course, after the heavy lectures involving quantum mechanics.'\n",
    "\n",
    "ans = [len(re.sub(r\"[^a-zA-Z]\", \"\", a)) for a in str.split(' ')]\n",
    "print(ans)"
   ]
  },
  {
   "cell_type": "code",
   "execution_count": 16,
   "metadata": {},
   "outputs": [
    {
     "name": "stdout",
     "output_type": "stream",
     "text": [
      "{1: 'H', 2: 'He', 3: 'Li', 4: 'Be', 5: 'B', 6: 'C', 7: 'N', 8: 'O', 9: 'F', 10: 'Ne', 11: 'Na', 12: 'Mi', 13: 'Al', 14: 'Si', 15: 'P', 16: 'S', 17: 'Cl', 18: 'Ar', 19: 'K', 20: 'Ca'}\n"
     ]
    }
   ],
   "source": [
    "str = 'Hi He Lied Because Boron Could Not Oxidize Fluorine. New Nations Might Also Sign Peace Security Clause. Arthur King Can.'\n",
    "tmp = [re.sub(r\"[^a-zA-Z]\", \"\", a) for a in str.split(' ')]\n",
    "num_list = [1, 5, 6, 7, 8, 9, 15, 16, 19]\n",
    "ans = {}\n",
    "for i, a in enumerate(tmp):\n",
    "    ans[i+1] = list(a)[0] if i+1 in num_list else ''.join(list(a)[0:2])\n",
    "print(ans)\n"
   ]
  },
  {
   "cell_type": "code",
   "execution_count": 19,
   "metadata": {},
   "outputs": [
    {
     "name": "stdout",
     "output_type": "stream",
     "text": [
      "['I ', ' a', 'am', 'm ', ' a', 'an', 'n ', ' N', 'NL', 'LP', 'Pe', 'er']\n",
      "[['I', 'am'], ['am', 'an'], ['an', 'NLPer']]\n"
     ]
    }
   ],
   "source": [
    "def n_gram(target, n):\n",
    "  # 基準を1文字(単語)ずつ ずらしながらn文字分抜き出す\n",
    "  return [ target[idx:idx + n] for idx in range(len(target) - n + 1)]\n",
    "\n",
    "target = \"I am an NLPer\"\n",
    "print(n_gram(target,2))\n",
    "print(n_gram(target.split(' '),2))"
   ]
  },
  {
   "cell_type": "code",
   "execution_count": 29,
   "metadata": {},
   "outputs": [
    {
     "name": "stdout",
     "output_type": "stream",
     "text": [
      "{'ag', 'is', 'ph', 'ap', 'pa', 'gr', 'di', 'ra', 'ar', 'se', 'ad'}\n",
      "{'pa', 'ra', 'ap', 'ar'}\n",
      "{'se', 'is', 'ad', 'di'}\n",
      "{'gr', 'ag', 'ph'}\n",
      "True\n",
      "False\n"
     ]
    }
   ],
   "source": [
    "X = n_gram('paraparaparadise',2)\n",
    "Y = n_gram('paragraph',2)\n",
    "X_unique = set(X)\n",
    "Y_unique = set(Y)\n",
    "union = X_unique | Y_unique\n",
    "print(union)\n",
    "intersection = X_unique & Y_unique\n",
    "print(intersection)\n",
    "print(X_unique - Y_unique)\n",
    "print(Y_unique - X_unique)\n",
    "\n",
    "print('se' in X_unique)\n",
    "print('se' in Y_unique)\n"
   ]
  },
  {
   "cell_type": "code",
   "execution_count": 30,
   "metadata": {},
   "outputs": [
    {
     "name": "stdout",
     "output_type": "stream",
     "text": [
      "12時の気温は22.4\n"
     ]
    }
   ],
   "source": [
    "def return_env(x,y,z):\n",
    "    return '{0}時の{1}は{2}'.format(x,y,z)\n",
    "\n",
    "print(return_env(12,'気温',22.4))"
   ]
  },
  {
   "cell_type": "code",
   "execution_count": 33,
   "metadata": {},
   "outputs": [
    {
     "name": "stdout",
     "output_type": "stream",
     "text": [
      "Nld I mvvw z wirmp, zoxlslorx lu xlfihv, zugvi gsv svzeb ovxgfivh rmeloermt jfzmgfn nvxszmrxh.\n",
      "Now I need a drink, alcoholic of course, after the heavy lectures involving quantum mechanics.\n"
     ]
    }
   ],
   "source": [
    "def cipher(data):\n",
    "    return ''.join([chr(219 - ord(a)) if a.islower() else a for a in data])\n",
    "\n",
    "str = 'Now I need a drink, alcoholic of course, after the heavy lectures involving quantum mechanics.'\n",
    "print(cipher(str))\n",
    "print(cipher(cipher(str)))"
   ]
  },
  {
   "cell_type": "code",
   "execution_count": 46,
   "metadata": {},
   "outputs": [
    {
     "name": "stdout",
     "output_type": "stream",
     "text": [
      "I culno’dt bvleeie that I cloud aualctly uensadtrnd what I was rnadeig : the penhoenaml pweor of the hamun mind .\n",
      "I cdlo’nut blvieee that I cuold acalluty unrdtnaesd what I was radneig : the pmnnheoeal peowr of the hamun mind .\n"
     ]
    }
   ],
   "source": [
    "import random\n",
    "\n",
    "def func(str):\n",
    "    return ' '.join([random_str(a) if len(a) > 4 else a for a in str.split(' ')])\n",
    "\n",
    "def random_str(str):\n",
    "    str_list = list(str)\n",
    "    head = str_list.pop(0)\n",
    "    tail = str_list.pop(-1)\n",
    "    random.shuffle(str_list)\n",
    "    str_list.insert(0,head)\n",
    "    str_list.append(tail)\n",
    "    return ''.join(str_list)\n",
    "    \n",
    "\n",
    "str = 'I couldn’t believe that I could actually understand what I was reading : the phenomenal power of the human mind .'\n",
    "print(func(str))\n",
    "print(func(str))\n"
   ]
  },
  {
   "cell_type": "code",
   "execution_count": null,
   "metadata": {},
   "outputs": [],
   "source": []
  }
 ],
 "metadata": {
  "interpreter": {
   "hash": "aee8b7b246df8f9039afb4144a1f6fd8d2ca17a180786b69acc140d282b71a49"
  },
  "kernelspec": {
   "display_name": "Python 3.9.7 64-bit",
   "language": "python",
   "name": "python3"
  },
  "language_info": {
   "codemirror_mode": {
    "name": "ipython",
    "version": 3
   },
   "file_extension": ".py",
   "mimetype": "text/x-python",
   "name": "python",
   "nbconvert_exporter": "python",
   "pygments_lexer": "ipython3",
   "version": "3.9.7"
  },
  "orig_nbformat": 4
 },
 "nbformat": 4,
 "nbformat_minor": 2
}
