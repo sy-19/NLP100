{
 "cells": [
  {
   "cell_type": "code",
   "execution_count": 8,
   "metadata": {},
   "outputs": [],
   "source": [
    "# 事前準備\n",
    "# neko.txt.mecabファイル生成は下記コマンドをターミナルで実施\n",
    "# mecab -o ./neko.txt.mecab ./neko.txt\n",
    "\n",
    "# 30.形態素解析結果の読み込み\n",
    "filename = './neko.txt.mecab'\n",
    "\n",
    "sentences = []\n",
    "morphs = []\n",
    "with open(filename, mode='r') as f:\n",
    "    for line in f:\n",
    "        if line != 'EOS\\n':\n",
    "            fields = line.split('\\t')\n",
    "            if len(fields) != 2 or fields[0] == '':  # 文頭以外の空白と改行文字はスキップ\n",
    "                continue\n",
    "            else:\n",
    "                attr =  fields[1].split(',')\n",
    "                morph = {'surface': fields[0], 'base': attr[6], 'pos': attr[0], 'pos1': attr[1]}\n",
    "                morphs.append(morph)\n",
    "        else:\n",
    "            sentences.append(morphs)\n",
    "            morphs = []"
   ]
  },
  {
   "cell_type": "code",
   "execution_count": 10,
   "metadata": {},
   "outputs": [
    {
     "name": "stdout",
     "output_type": "stream",
     "text": [
      "あばか\n",
      "改める\n",
      "こまっ\n",
      "振れ\n",
      "せら\n"
     ]
    }
   ],
   "source": [
    "# 31.動詞\n",
    "ans = set() # 結果を重複させないようにset型にする\n",
    "for sentence in sentences:\n",
    "  for morph in sentence:\n",
    "    if morph['pos'] == '動詞':\n",
    "      ans.add(morph['surface'])\n"
   ]
  },
  {
   "cell_type": "code",
   "execution_count": 11,
   "metadata": {},
   "outputs": [
    {
     "name": "stdout",
     "output_type": "stream",
     "text": [
      "改める\n",
      "徹る\n",
      "成す\n",
      "更ける\n",
      "律す\n"
     ]
    }
   ],
   "source": [
    "# 32.動詞の基本形\n",
    "ans = set()\n",
    "for sentence in sentences:\n",
    "  for morph in sentence:\n",
    "    if morph['pos'] == '動詞':\n",
    "      ans.add(morph['base'])\n",
    "\n",
    "ans_list = list(ans)\n",
    "for i in range(5):\n",
    "    print(ans_list[i])"
   ]
  },
  {
   "cell_type": "code",
   "execution_count": 35,
   "metadata": {},
   "outputs": [
    {
     "name": "stdout",
     "output_type": "stream",
     "text": [
      "4924\n",
      "万物の習い\n",
      "探偵のよう\n",
      "人の兵隊\n",
      "小形の箸\n",
      "異様の陶器\n"
     ]
    }
   ],
   "source": [
    "# 33.AのB\n",
    "ans = set()\n",
    "for sentence in sentences:\n",
    "  for i in range(len(sentence)-2):\n",
    "    if sentence[i]['pos'] == '名詞' and sentence[i+1]['surface'] == 'の' and sentence[i+2]['pos'] == '名詞':\n",
    "      ans.add(sentence[i]['surface'] + 'の' + sentence[i+2]['surface']) # 名詞句をadd\n",
    "\n",
    "print(len(ans))\n",
    "ans_list = list(ans)\n",
    "for i in range(5):\n",
    "  print(ans_list[i])"
   ]
  },
  {
   "cell_type": "code",
   "execution_count": 36,
   "metadata": {},
   "outputs": [
    {
     "name": "stdout",
     "output_type": "stream",
     "text": [
      "4457\n",
      "団栗博士\n",
      "張り具合\n",
      "寄木細工\n",
      "——容易\n",
      "甲羅つき\n",
      "玉人\n",
      "天然居士\n",
      "みんな椅子\n",
      "応無所住而生其心\n",
      "事——\n"
     ]
    }
   ],
   "source": [
    "# 34.名詞の連接\n",
    "ans = set()\n",
    "noun = []\n",
    "for sentence in sentences:\n",
    "    for morph in sentence:\n",
    "        if morph['pos'] == '名詞': # 名詞の場合はnounリストに追加\n",
    "            noun.append(morph['surface'])\n",
    "        else: # 名詞以外の場合はnounリストに入っている名詞を結合してansに追加\n",
    "            if len(noun) >= 2:\n",
    "                ans.add(''.join(noun))\n",
    "                noun = []\n",
    "            else: # nounリストが0or1の場合は初期化\n",
    "                noun = []\n",
    "# 最後は句点がくるはずなので、最後にnounを追加する処理はいらない？\n",
    "print(len(ans))\n",
    "ans_list = list(ans)\n",
    "for i in range(10):\n",
    "    print(ans_list[i])"
   ]
  },
  {
   "cell_type": "code",
   "execution_count": 37,
   "metadata": {},
   "outputs": [
    {
     "name": "stdout",
     "output_type": "stream",
     "text": [
      "('の', 9194)\n",
      "('て', 6848)\n",
      "('は', 6420)\n",
      "('に', 6243)\n",
      "('を', 6071)\n",
      "('だ', 5975)\n",
      "('と', 5508)\n",
      "('が', 5337)\n",
      "('た', 4267)\n",
      "('する', 3657)\n"
     ]
    }
   ],
   "source": [
    "# 35.単語の出現頻度\n",
    "from collections import defaultdict\n",
    "\n",
    "ans = defaultdict(int)\n",
    "for sentence in sentences:\n",
    "    for morph in sentence:\n",
    "        if morph['pos'] != '記号':\n",
    "            ans[morph['base']] += 1  # 単語数の更新(初登場の単語であれば1をセット)\n",
    "ans = sorted(ans.items(), key=lambda x: x[1], reverse=True)\n",
    "\n",
    "for i in range(10):\n",
    "    print(ans[i])\n"
   ]
  },
  {
   "cell_type": "code",
   "execution_count": null,
   "metadata": {},
   "outputs": [],
   "source": []
  }
 ],
 "metadata": {
  "interpreter": {
   "hash": "40d3a090f54c6569ab1632332b64b2c03c39dcf918b08424e98f38b5ae0af88f"
  },
  "kernelspec": {
   "display_name": "Python 3.7.6 ('base')",
   "language": "python",
   "name": "python3"
  },
  "language_info": {
   "codemirror_mode": {
    "name": "ipython",
    "version": 3
   },
   "file_extension": ".py",
   "mimetype": "text/x-python",
   "name": "python",
   "nbconvert_exporter": "python",
   "pygments_lexer": "ipython3",
   "version": "3.9.6"
  },
  "orig_nbformat": 4
 },
 "nbformat": 4,
 "nbformat_minor": 2
}
