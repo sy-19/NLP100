{
 "cells": [
  {
   "cell_type": "code",
   "execution_count": 4,
   "metadata": {},
   "outputs": [],
   "source": [
    "# 事前準備\n",
    "# neko.txt.mecabファイル生成は下記コマンドをターミナルで実施\n",
    "# mecab -o ./neko.txt.mecab ./neko.txt\n",
    "\n",
    "# 30.形態素解析結果の読み込み\n",
    "filename = './neko.txt.mecab'\n",
    "\n",
    "sentences = []\n",
    "morphs = []\n",
    "with open(filename, mode='r') as f:\n",
    "    for line in f:\n",
    "        if line != 'EOS\\n':\n",
    "            fields = line.split('\\t')\n",
    "            if len(fields) != 2 or fields[0] == '':  # 文頭以外の空白と改行文字はスキップ\n",
    "                continue\n",
    "            else:\n",
    "                attr =  fields[1].split(',')\n",
    "                morph = {'surface': fields[0], 'base': attr[6], 'pos': attr[0], 'pos1': attr[1]}\n",
    "                morphs.append(morph)\n",
    "        else:\n",
    "            sentences.append(morphs)\n",
    "            morphs = []"
   ]
  },
  {
   "cell_type": "code",
   "execution_count": 5,
   "metadata": {},
   "outputs": [],
   "source": [
    "# 31.動詞\n",
    "ans = set() # 結果を重複させないようにset型にする\n",
    "for sentence in sentences:\n",
    "  for morph in sentence:\n",
    "    if morph['pos'] == '動詞':\n",
    "      ans.add(morph['surface'])\n"
   ]
  },
  {
   "cell_type": "code",
   "execution_count": 6,
   "metadata": {},
   "outputs": [
    {
     "name": "stdout",
     "output_type": "stream",
     "text": [
      "懲りる\n",
      "寄り付く\n",
      "外す\n",
      "張れる\n",
      "あらす\n"
     ]
    }
   ],
   "source": [
    "# 32.動詞の基本形\n",
    "ans = set()\n",
    "for sentence in sentences:\n",
    "  for morph in sentence:\n",
    "    if morph['pos'] == '動詞':\n",
    "      ans.add(morph['base'])\n",
    "\n",
    "ans_list = list(ans)\n",
    "for i in range(5):\n",
    "    print(ans_list[i])"
   ]
  },
  {
   "cell_type": "code",
   "execution_count": 7,
   "metadata": {},
   "outputs": [
    {
     "name": "stdout",
     "output_type": "stream",
     "text": [
      "4924\n",
      "真先の烏\n",
      "神田の西洋\n",
      "軽蔑の意\n",
      "吾輩の前\n",
      "屋の話\n"
     ]
    }
   ],
   "source": [
    "# 33.AのB\n",
    "ans = set()\n",
    "for sentence in sentences:\n",
    "  for i in range(len(sentence)-2):\n",
    "    if sentence[i]['pos'] == '名詞' and sentence[i+1]['surface'] == 'の' and sentence[i+2]['pos'] == '名詞':\n",
    "      ans.add(sentence[i]['surface'] + 'の' + sentence[i+2]['surface']) # 名詞句をadd\n",
    "\n",
    "print(len(ans))\n",
    "ans_list = list(ans)\n",
    "for i in range(5):\n",
    "  print(ans_list[i])"
   ]
  },
  {
   "cell_type": "code",
   "execution_count": 8,
   "metadata": {},
   "outputs": [
    {
     "name": "stdout",
     "output_type": "stream",
     "text": [
      "4457\n",
      "垣巡り\n",
      "揚句ここ\n",
      "集注\n",
      "何点\n",
      "上瞼\n",
      "姫様\n",
      "二大厄\n",
      "差支\n",
      "休養以外\n",
      "隣座敷\n"
     ]
    }
   ],
   "source": [
    "# 34.名詞の連接\n",
    "ans = set()\n",
    "noun = []\n",
    "for sentence in sentences:\n",
    "    for morph in sentence:\n",
    "        if morph['pos'] == '名詞': # 名詞の場合はnounリストに追加\n",
    "            noun.append(morph['surface'])\n",
    "        else: # 名詞以外の場合はnounリストに入っている名詞を結合してansに追加\n",
    "            if len(noun) >= 2:\n",
    "                ans.add(''.join(noun))\n",
    "                noun = []\n",
    "            else: # nounリストが0or1の場合は初期化\n",
    "                noun = []\n",
    "# 最後は句点がくるはずなので、最後にnounを追加する処理はいらない？\n",
    "print(len(ans))\n",
    "ans_list = list(ans)\n",
    "for i in range(10):\n",
    "    print(ans_list[i])"
   ]
  },
  {
   "cell_type": "code",
   "execution_count": 9,
   "metadata": {},
   "outputs": [
    {
     "name": "stdout",
     "output_type": "stream",
     "text": [
      "('の', 9194)\n",
      "('て', 6848)\n",
      "('は', 6420)\n",
      "('に', 6243)\n",
      "('を', 6071)\n",
      "('だ', 5975)\n",
      "('と', 5508)\n",
      "('が', 5337)\n",
      "('た', 4267)\n",
      "('する', 3657)\n"
     ]
    }
   ],
   "source": [
    "# 35.単語の出現頻度\n",
    "from collections import defaultdict\n",
    "\n",
    "ans = defaultdict(int)\n",
    "for sentence in sentences:\n",
    "    for morph in sentence:\n",
    "        if morph['pos'] != '記号':\n",
    "            ans[morph['base']] += 1  # 単語数の更新(初登場の単語であれば1をセット)\n",
    "ans = sorted(ans.items(), key=lambda x: x[1], reverse=True)\n",
    "\n",
    "for i in range(10):\n",
    "    print(ans[i])\n"
   ]
  },
  {
   "cell_type": "code",
   "execution_count": 10,
   "metadata": {},
   "outputs": [
    {
     "data": {
      "image/png": "[encoded data removed]",
      "text/plain": [
       "<Figure size 576x288 with 1 Axes>"
      ]
     },
     "metadata": {
      "needs_background": "light"
     },
     "output_type": "display_data"
    }
   ],
   "source": [
    "# 36. 頻度上位10語\n",
    "import matplotlib.pyplot as plt\n",
    "import japanize_matplotlib\n",
    "\n",
    "ans = defaultdict(int)\n",
    "for sentence in sentences:\n",
    "    for morph in sentence:\n",
    "        if morph['pos'] != '記号':\n",
    "            ans[morph['base']] += 1  # 単語数の更新(初登場の単語であれば1をセット)\n",
    "ans = sorted(ans.items(), key=lambda x: x[1], reverse=True)\n",
    "\n",
    "keys = [a[0] for a in ans[0:10]]\n",
    "values = [a[1] for a in ans[0:10]]\n",
    "\n",
    "plt.figure(figsize=(8, 4))\n",
    "plt.bar(keys, values)\n",
    "plt.show()"
   ]
  },
  {
   "cell_type": "code",
   "execution_count": 12,
   "metadata": {},
   "outputs": [
    {
     "data": {
      "image/png": "[encoded data removed]",
      "text/plain": [
       "<Figure size 576x288 with 1 Axes>"
      ]
     },
     "metadata": {
      "needs_background": "light"
     },
     "output_type": "display_data"
    }
   ],
   "source": [
    "# 37. 「猫」と共起頻度の高い上位10語（名詞ver.）\n",
    "\n",
    "ans = defaultdict(int)\n",
    "for sentence in sentences:\n",
    "    if '猫' in [morph['surface'] for morph in sentence]:\n",
    "        for morph in sentence:\n",
    "            if morph['pos'] == '名詞':\n",
    "                ans[morph['base']] += 1\n",
    "del ans['猫']\n",
    "\n",
    "ans = sorted(ans.items(),key=lambda x:x[1], reverse=True)\n",
    "\n",
    "keys = [a[0] for a in ans[0:10]]\n",
    "values = [a[1] for a in ans[0:10]]\n",
    "\n",
    "plt.figure(figsize=(8, 4))\n",
    "plt.bar(keys, values)\n",
    "plt.show()"
   ]
  },
  {
   "cell_type": "code",
   "execution_count": 26,
   "metadata": {},
   "outputs": [
    {
     "data": {
      "image/png": "[encoded data removed]",
      "text/plain": [
       "<Figure size 576x288 with 1 Axes>"
      ]
     },
     "metadata": {
      "needs_background": "light"
     },
     "output_type": "display_data"
    }
   ],
   "source": [
    "# 38. ヒストグラム\n",
    "ans = defaultdict(int)\n",
    "for sentence in sentences:\n",
    "    for morph in sentence:\n",
    "        if morph['pos'] != '記号':\n",
    "            ans[morph['base']] += 1\n",
    "ans = list(ans.values())\n",
    "\n",
    "# 試しに出現頻度が10〜200回の単語数を確認してみる\n",
    "ans = [a for a in ans if 10 <= a <= 200]\n",
    "\n",
    "plt.figure(figsize=(8, 4))\n",
    "plt.hist(ans, bins=100)\n",
    "plt.xlabel('出現頻度')\n",
    "plt.ylabel('単語の種類数')\n",
    "plt.show()\n"
   ]
  },
  {
   "cell_type": "code",
   "execution_count": 27,
   "metadata": {},
   "outputs": [
    {
     "data": {
      "image/png": "[encoded data removed]",
      "text/plain": [
       "<Figure size 576x288 with 1 Axes>"
      ]
     },
     "metadata": {
      "needs_background": "light"
     },
     "output_type": "display_data"
    }
   ],
   "source": [
    "# 39. zipfの法則\n",
    "import math\n",
    "\n",
    "ans = defaultdict(int)\n",
    "for sentence in sentences:\n",
    "  for morph in sentence:\n",
    "    if morph['pos'] != '記号':\n",
    "      ans[morph['base']] += 1\n",
    "ans = sorted(ans.items(), key=lambda x: x[1], reverse=True)\n",
    "\n",
    "ranks = [r + 1 for r in range(len(ans))]\n",
    "values = [a[1] for a in ans]\n",
    "\n",
    "plt.figure(figsize=(8, 4))\n",
    "plt.scatter(ranks, values)\n",
    "plt.xscale('log')\n",
    "plt.yscale('log')\n",
    "plt.xlabel('出現頻度順位')\n",
    "plt.ylabel('出現頻度')\n",
    "plt.show()"
   ]
  },
  {
   "cell_type": "code",
   "execution_count": null,
   "metadata": {},
   "outputs": [],
   "source": []
  }
 ],
 "metadata": {
  "interpreter": {
   "hash": "40d3a090f54c6569ab1632332b64b2c03c39dcf918b08424e98f38b5ae0af88f"
  },
  "kernelspec": {
   "display_name": "Python 3.7.6 ('base')",
   "language": "python",
   "name": "python3"
  },
  "language_info": {
   "codemirror_mode": {
    "name": "ipython",
    "version": 3
   },
   "file_extension": ".py",
   "mimetype": "text/x-python",
   "name": "python",
   "nbconvert_exporter": "python",
   "pygments_lexer": "ipython3",
   "version": "3.9.6"
  },
  "orig_nbformat": 4
 },
 "nbformat": 4,
 "nbformat_minor": 2
}
