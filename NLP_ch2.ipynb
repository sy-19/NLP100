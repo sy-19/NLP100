{
 "cells": [
  {
   "cell_type": "code",
   "execution_count": 1,
   "metadata": {},
   "outputs": [
    {
     "name": "stdout",
     "output_type": "stream",
     "text": [
      "2780\n"
     ]
    }
   ],
   "source": [
    "\n",
    "# 10.行数のカウント\n",
    "import pandas as pd\n",
    "\n",
    "df = pd.read_table('./popular-names.txt', header=None, sep=' ', names=['name', 'sex', 'number', 'year'])\n",
    "\n",
    "print(len(df))"
   ]
  },
  {
   "cell_type": "code",
   "execution_count": 8,
   "metadata": {},
   "outputs": [],
   "source": [
    "# 12.1列目をcol1.txtに，2列目をcol2.txtに保存\n",
    "df['name'].to_csv('col1.txt',index=False)\n",
    "df['sex'].to_csv('col2.txt',index=False)"
   ]
  },
  {
   "cell_type": "code",
   "execution_count": 16,
   "metadata": {},
   "outputs": [
    {
     "name": "stdout",
     "output_type": "stream",
     "text": [
      "           name sex\n",
      "0          Mary   F\n",
      "1          Anna   F\n",
      "2          Emma   F\n",
      "3     Elizabeth   F\n",
      "4        Minnie   F\n",
      "...         ...  ..\n",
      "2775   Benjamin   M\n",
      "2776     Elijah   M\n",
      "2777      Lucas   M\n",
      "2778      Mason   M\n",
      "2779      Logan   M\n",
      "\n",
      "[2780 rows x 2 columns]\n"
     ]
    }
   ],
   "source": [
    "# 13. col1.txtとcol2.txtをマージ\n",
    "col1 = pd.read_table('col1.txt')\n",
    "col2 = pd.read_table('col2.txt')\n",
    "merged_file = pd.concat([col1,col2],axis=1)\n",
    "merged_file.to_csv('merged.txt',sep='\\t',index=False)\n",
    "print(merged_file)"
   ]
  },
  {
   "cell_type": "code",
   "execution_count": 26,
   "metadata": {},
   "outputs": [
    {
     "name": "stdout",
     "output_type": "stream",
     "text": [
      "        name sex  number  year\n",
      "0       Mary   F    7065  1880\n",
      "1       Anna   F    2604  1880\n",
      "2       Emma   F    2003  1880\n",
      "3  Elizabeth   F    1939  1880\n",
      "4     Minnie   F    1746  1880\n"
     ]
    }
   ],
   "source": [
    "# 14. 先頭からN行を出力\n",
    "N = int(input())\n",
    "print(df.head(N))"
   ]
  },
  {
   "cell_type": "code",
   "execution_count": 27,
   "metadata": {},
   "outputs": [
    {
     "name": "stdout",
     "output_type": "stream",
     "text": [
      "          name sex  number  year\n",
      "2775  Benjamin   M   13381  2018\n",
      "2776    Elijah   M   12886  2018\n",
      "2777     Lucas   M   12585  2018\n",
      "2778     Mason   M   12435  2018\n",
      "2779     Logan   M   12352  2018\n"
     ]
    }
   ],
   "source": [
    "# 15. 末尾のN行を出力\n",
    "N = int(input())\n",
    "print(df.tail(N))"
   ]
  },
  {
   "cell_type": "code",
   "execution_count": 42,
   "metadata": {},
   "outputs": [
    {
     "name": "stdout",
     "output_type": "stream",
     "text": [
      "0    278\n",
      "1    278\n",
      "2    278\n",
      "3    278\n",
      "4    278\n",
      "5    278\n",
      "6    278\n",
      "7    278\n",
      "8    278\n",
      "9    278\n",
      "Name: sp, dtype: int64\n"
     ]
    }
   ],
   "source": [
    "# 16. ファイルをN分割する\n",
    "def split_file(N):\n",
    "    tmp = df.reset_index(drop=False)\n",
    "    df_cut = pd.qcut(tmp.index,N,labels=[i for i in range(N)])\n",
    "    df_cut = pd.concat([df, pd.Series(df_cut, name='sp')], axis=1)\n",
    "    return df_cut\n",
    "\n",
    "df = pd.read_table('popular-names.txt',header=None, sep=' ', names=['name', 'sex', 'number', 'year'])\n",
    "df_cut = split_file(10)\n",
    "print(df_cut['sp'].value_counts())"
   ]
  },
  {
   "cell_type": "code",
   "execution_count": 43,
   "metadata": {},
   "outputs": [
    {
     "name": "stdout",
     "output_type": "stream",
     "text": [
      "        name sex  number  year sp\n",
      "0       Mary   F    7065  1880  0\n",
      "1       Anna   F    2604  1880  0\n",
      "2       Emma   F    2003  1880  0\n",
      "3  Elizabeth   F    1939  1880  0\n",
      "4     Minnie   F    1746  1880  0\n"
     ]
    }
   ],
   "source": [
    "print(df_cut.head())"
   ]
  },
  {
   "cell_type": "code",
   "execution_count": 44,
   "metadata": {},
   "outputs": [
    {
     "name": "stdout",
     "output_type": "stream",
     "text": [
      "136\n"
     ]
    }
   ],
   "source": [
    "# 17. １列目の文字列の異なり\n",
    "print(len(df.drop_duplicates(subset='name')))"
   ]
  },
  {
   "cell_type": "code",
   "execution_count": 49,
   "metadata": {},
   "outputs": [
    {
     "name": "stdout",
     "output_type": "stream",
     "text": [
      "         name sex  number  year\n",
      "1340    Linda   F   99689  1947\n",
      "1360    Linda   F   96211  1948\n",
      "1350    James   M   94757  1947\n",
      "1550  Michael   M   92704  1957\n",
      "1351   Robert   M   91640  1947\n"
     ]
    }
   ],
   "source": [
    "# 18. 各行を3コラム目の数値の降順にソート（inplace=Trueで元のオブジェクトを変更）\n",
    "df_s = df.sort_values(by='number',ascending=False)\n",
    "print(df_s.head())"
   ]
  },
  {
   "cell_type": "code",
   "execution_count": 52,
   "metadata": {},
   "outputs": [
    {
     "name": "stdout",
     "output_type": "stream",
     "text": [
      "James      118\n",
      "William    111\n",
      "Robert     108\n",
      "John       108\n",
      "Mary        92\n",
      "          ... \n",
      "Julie        1\n",
      "Laura        1\n",
      "Walter       1\n",
      "Lori         1\n",
      "Rachel       1\n",
      "Name: name, Length: 136, dtype: int64\n"
     ]
    }
   ],
   "source": [
    "# 19. 各行の1コラム目の文字列の出現頻度を求め，出現頻度の高い順に並べる\n",
    "print(df['name'].value_counts())"
   ]
  },
  {
   "cell_type": "code",
   "execution_count": null,
   "metadata": {},
   "outputs": [],
   "source": []
  }
 ],
 "metadata": {
  "interpreter": {
   "hash": "aee8b7b246df8f9039afb4144a1f6fd8d2ca17a180786b69acc140d282b71a49"
  },
  "kernelspec": {
   "display_name": "Python 3.9.7 64-bit",
   "language": "python",
   "name": "python3"
  },
  "language_info": {
   "codemirror_mode": {
    "name": "ipython",
    "version": 3
   },
   "file_extension": ".py",
   "mimetype": "text/x-python",
   "name": "python",
   "nbconvert_exporter": "python",
   "pygments_lexer": "ipython3",
   "version": "3.9.6"
  },
  "orig_nbformat": 4
 },
 "nbformat": 4,
 "nbformat_minor": 2
}
